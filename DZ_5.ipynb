{
  "nbformat": 4,
  "nbformat_minor": 0,
  "metadata": {
    "colab": {
      "provenance": [],
      "authorship_tag": "ABX9TyPKvaofE4pTtGLH7P06fGAs",
      "include_colab_link": true
    },
    "kernelspec": {
      "name": "python3",
      "display_name": "Python 3"
    },
    "language_info": {
      "name": "python"
    }
  },
  "cells": [
    {
      "cell_type": "markdown",
      "metadata": {
        "id": "view-in-github",
        "colab_type": "text"
      },
      "source": [
        "<a href=\"https://colab.research.google.com/github/WanyaKruk/DZ-5/blob/main/DZ_5.ipynb\" target=\"_parent\"><img src=\"https://colab.research.google.com/assets/colab-badge.svg\" alt=\"Open In Colab\"/></a>"
      ]
    },
    {
      "cell_type": "code",
      "execution_count": 4,
      "metadata": {
        "colab": {
          "base_uri": "https://localhost:8080/"
        },
        "id": "k5VPaiIf27Q_",
        "outputId": "803cf25d-b1f8-435c-8ff9-deebcc244abc"
      },
      "outputs": [
        {
          "output_type": "stream",
          "name": "stdout",
          "text": [
            "       Make        Model   Vehicle Class  Engine Size(L)  Cylinders  \\\n",
            "0     ACURA          ILX         COMPACT             2.0          4   \n",
            "1     ACURA          ILX         COMPACT             2.4          4   \n",
            "2     ACURA   ILX HYBRID         COMPACT             1.5          4   \n",
            "3     ACURA      MDX 4WD     SUV - SMALL             3.5          6   \n",
            "4     ACURA      RDX AWD     SUV - SMALL             3.5          6   \n",
            "...     ...          ...             ...             ...        ...   \n",
            "7380  VOLVO  XC40 T5 AWD     SUV - SMALL             2.0          4   \n",
            "7381  VOLVO  XC60 T5 AWD     SUV - SMALL             2.0          4   \n",
            "7382  VOLVO  XC60 T6 AWD     SUV - SMALL             2.0          4   \n",
            "7383  VOLVO  XC90 T5 AWD  SUV - STANDARD             2.0          4   \n",
            "7384  VOLVO  XC90 T6 AWD  SUV - STANDARD             2.0          4   \n",
            "\n",
            "     Transmission Fuel Type  Fuel Consumption City (L/100 km)  \\\n",
            "0             AS5         Z                               9.9   \n",
            "1              M6         Z                              11.2   \n",
            "2             AV7         Z                               6.0   \n",
            "3             AS6         Z                              12.7   \n",
            "4             AS6         Z                              12.1   \n",
            "...           ...       ...                               ...   \n",
            "7380          AS8         Z                              10.7   \n",
            "7381          AS8         Z                              11.2   \n",
            "7382          AS8         Z                              11.7   \n",
            "7383          AS8         Z                              11.2   \n",
            "7384          AS8         Z                              12.2   \n",
            "\n",
            "      Fuel Consumption Hwy (L/100 km)  Fuel Consumption Comb (L/100 km)  \\\n",
            "0                                 6.7                               8.5   \n",
            "1                                 7.7                               9.6   \n",
            "2                                 5.8                               5.9   \n",
            "3                                 9.1                              11.1   \n",
            "4                                 8.7                              10.6   \n",
            "...                               ...                               ...   \n",
            "7380                              7.7                               9.4   \n",
            "7381                              8.3                               9.9   \n",
            "7382                              8.6                              10.3   \n",
            "7383                              8.3                               9.9   \n",
            "7384                              8.7                              10.7   \n",
            "\n",
            "      Fuel Consumption Comb (mpg)  CO2 Emissions(g/km)  \n",
            "0                              33                  196  \n",
            "1                              29                  221  \n",
            "2                              48                  136  \n",
            "3                              25                  255  \n",
            "4                              27                  244  \n",
            "...                           ...                  ...  \n",
            "7380                           30                  219  \n",
            "7381                           29                  232  \n",
            "7382                           27                  240  \n",
            "7383                           29                  232  \n",
            "7384                           26                  248  \n",
            "\n",
            "[7385 rows x 12 columns]\n"
          ]
        }
      ],
      "source": [
        "#  DZ-5\n",
        "\n",
        "import numpy as np\n",
        "import pandas as pd\n",
        "import matplotlib.pyplot as plt\n",
        "from sklearn.model_selection import train_test_split\n",
        "from sklearn.metrics import mean_absolute_error, mean_squared_error, r2_score\n",
        "data = pd.read_csv('CO2 Emissions_Canada.csv')\n",
        "print(data)"
      ]
    },
    {
      "cell_type": "code",
      "source": [
        " \"\"\"\n",
        " Подробное описание датасета: https://www.kaggle.com/datasets/debajyotipodder/co2-emission-by-vehicles?resource=download\n",
        "\n",
        "     Количество выбросов CO2 транспортным средством в зависимости от его различных характеристик.\n",
        "Этот набор данных фиксирует детали того, как выбросы CO2 транспортным средством могут меняться в зависимости от различных характеристик. Набор данных был взят с официального сайта открытых данных правительства Канады. Содержит данные за 7 лет.\n",
        "\n",
        "  Состав Датасета:\n",
        "Количество Образцов: 7385\n",
        "Количество Признаков: 11 (6 - числовых, 5 - категориальных)\n",
        "Целевая Переменная: Выбросы CO2 (CO2 Emissions(g/km))\n",
        "\n",
        "  Описание колонок:\n",
        "MAKE: Производитель автомобиля.\n",
        "MODEL: Модель автомобиля.\n",
        "VEHICLE CLASS: Класс автомобиля.\n",
        "ENGINE SIZE: Объем двигателя в литрах.\n",
        "CYLINDERS: Количество цилиндров в двигателе.\n",
        "TRANSMISSION: Тип трансмиссии.\n",
        "FUEL TYPE: Тип топлива.\n",
        "FUEL CONSUMPTION (CITY): Расход топлива в городе (литров на 100 км).\n",
        "FUEL CONSUMPTION (HWY): Расход топлива на шоссе (литров на 100 км).\n",
        "FUEL CONSUMPTION (COMB): Комбинированный расход топлива (литров на 100 км).\n",
        "CO2 EMISSIONS: Выбросы CO2 (грамм на километр).\n",
        "  Аббревиатуры,\n",
        "\n",
        " \"\"\""
      ],
      "metadata": {
        "colab": {
          "base_uri": "https://localhost:8080/",
          "height": 110
        },
        "id": "bEN6ItVm39-7",
        "outputId": "25df6a6a-8847-471c-fc81-9911377e8257"
      },
      "execution_count": 5,
      "outputs": [
        {
          "output_type": "execute_result",
          "data": {
            "text/plain": [
              "'\\nПодробное описание датасета: https://www.kaggle.com/datasets/debajyotipodder/co2-emission-by-vehicles?resource=download\\n\\n    Количество выбросов CO2 транспортным средством в зависимости от его различных характеристик.\\nЭтот набор данных фиксирует детали того, как выбросы CO2 транспортным средством могут меняться в зависимости от различных характеристик. Набор данных был взят с официального сайта открытых данных правительства Канады. Содержит данные за 7 лет.\\n\\n Состав Датасета:\\nКоличество Образцов: 7385\\nКоличество Признаков: 11 (6 - числовых, 5 - категориальных)\\nЦелевая Переменная: Выбросы CO2 (CO2 Emissions(g/km))\\n\\n Описание колонок:\\nMAKE: Производитель автомобиля.\\nMODEL: Модель автомобиля.\\nVEHICLE CLASS: Класс автомобиля.\\nENGINE SIZE: Объем двигателя в литрах.\\nCYLINDERS: Количество цилиндров в двигателе.\\nTRANSMISSION: Тип трансмиссии.\\nFUEL TYPE: Тип топлива.\\nFUEL CONSUMPTION (CITY): Расход топлива в городе (литров на 100 км).\\nFUEL CONSUMPTION (HWY): Расход топлива на шоссе (литров на 100 км).\\nFUEL CONSUMPTION (COMB): Комбинированный расход топлива (литров на 100 км).\\nCO2 EMISSIONS: Выбросы CO2 (грамм на километр).\\n\\n\\n'"
            ],
            "application/vnd.google.colaboratory.intrinsic+json": {
              "type": "string"
            }
          },
          "metadata": {},
          "execution_count": 5
        }
      ]
    }
  ]
}